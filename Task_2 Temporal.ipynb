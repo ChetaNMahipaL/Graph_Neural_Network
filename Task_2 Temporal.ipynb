{
 "cells": [
  {
   "cell_type": "markdown",
   "metadata": {},
   "source": [
    "### **Importing Libraries**\n"
   ]
  },
  {
   "cell_type": "code",
   "execution_count": 7,
   "metadata": {},
   "outputs": [],
   "source": [
    "import networkx as nx\n",
    "import matplotlib.pyplot as plt\n",
    "import pandas as pd\n",
    "import numpy as np\n",
    "from sklearn.linear_model import LinearRegression\n",
    "from networkx.algorithms.community.centrality import girvan_newman\n",
    "from operator import mul\n",
    "import networkx as nx\n",
    "import os\n",
    "import sys\n",
    "import community.community_louvain as community\n",
    "import matplotlib.image as mpimg\n",
    "import matplotlib.colors as mpcolors\n",
    "import matplotlib.cm as mpcm\n",
    "import random"
   ]
  },
  {
   "cell_type": "markdown",
   "metadata": {},
   "source": [
    "### **Loading DataSet**"
   ]
  },
  {
   "cell_type": "code",
   "execution_count": 8,
   "metadata": {},
   "outputs": [],
   "source": [
    "data_url = \"./Dataset/Cit-HepPh.txt\"\n",
    "df_data_1 = pd.read_csv(data_url, sep='\\t', skiprows=4, names=['FromNodeId', 'ToNodeId'], dtype={'FromNodeId': int, 'ToNodeId': int})"
   ]
  },
  {
   "cell_type": "markdown",
   "metadata": {},
   "source": [
    "### **Loading Time of Release**"
   ]
  },
  {
   "cell_type": "code",
   "execution_count": 37,
   "metadata": {},
   "outputs": [],
   "source": [
    "data_url = \"./Dataset/cit-HepPh-dates.txt\"\n",
    "df_data_2 = pd.read_csv(data_url, sep='\\t', skiprows=1, names=['NodeId', 'Date'], dtype={'NodeId': str, 'Date': str})\n",
    "df_data_2['Date'] = pd.to_datetime(df_data_2['Date'])\n",
    "graphs_by_date = {}\n",
    "# Filter entries with '11' at the beginning of the 'NodeId' column\n",
    "df_data_2 = df_data_2[~df_data_2['NodeId'].str.startswith('11')]\n",
    "# Filter entries with leading 0's of the 'NodeId' column\n",
    "df_data_2['NodeId'] = df_data_2['NodeId'].astype(str).str.lstrip('0')\n",
    "df_data_2['NodeId'] = df_data_2['NodeId'].astype(int)\n",
    "df_data_2 = df_data_2[df_data_2['Date'].dt.year <= 1993]\n",
    "i = 0\n",
    "# unnodes = df_data_2['NodeId']\n",
    "# for nodes in unnodes:\n",
    "#     print(nodes)\n",
    "#     i += 1\n",
    "# print(i)\n"
   ]
  },
  {
   "cell_type": "markdown",
   "metadata": {},
   "source": [
    "### **Merging Both DataSet**"
   ]
  },
  {
   "cell_type": "code",
   "execution_count": 38,
   "metadata": {},
   "outputs": [
    {
     "name": "stdout",
     "output_type": "stream",
     "text": [
      "1037\n"
     ]
    }
   ],
   "source": [
    "df_merged = pd.merge(df_data_1, df_data_2, how='inner', left_on='FromNodeId', right_on='NodeId')\n",
    "df_merged['Date'] = pd.to_datetime(df_merged['Date'])\n",
    "# Filter out rows where 'ToNodeId' is not present in 'NodeId' column of df_data_2\n",
    "df_merged = df_merged[df_merged['ToNodeId'].isin(df_data_2['NodeId'])]\n",
    "unnodes = df_merged['FromNodeId'].unique()\n",
    "i = 0\n",
    "for nodes in unnodes:\n",
    "    # print(node)\n",
    "    i += 1\n",
    "print(i)"
   ]
  },
  {
   "cell_type": "markdown",
   "metadata": {},
   "source": [
    "### **Creation of Graph**"
   ]
  },
  {
   "cell_type": "code",
   "execution_count": 5,
   "metadata": {},
   "outputs": [
    {
     "name": "stdout",
     "output_type": "stream",
     "text": [
      "Number of nodes: 30501\n",
      "Number of edges: 347268\n",
      "0.0003732938613676198\n"
     ]
    }
   ],
   "source": [
    "\n",
    "# Construct the directed graph\n",
    "G_lat = nx.from_pandas_edgelist(df_merged, 'FromNodeId', 'ToNodeId', create_using=nx.DiGraph())\n",
    "\n",
    "print(\"Number of nodes:\", len(G_lat.nodes()))\n",
    "print(\"Number of edges:\", len(G_lat.edges()))\n",
    "print(nx.density(G_lat))\n"
   ]
  },
  {
   "cell_type": "markdown",
   "metadata": {},
   "source": [
    "### **Yearly Analysis**"
   ]
  },
  {
   "cell_type": "code",
   "execution_count": 34,
   "metadata": {},
   "outputs": [],
   "source": [
    "df_merged['Year'] = df_merged['Date'].dt.year\n",
    "\n",
    "\n",
    "# Counter to keep track of processed years\n",
    "flag = 0\n",
    "\n",
    "for year in range(1992, 1994):\n",
    "\n",
    "    month = 1\n",
    "    while(month < 13):\n",
    "        # Calculate the end month considering the three-month gap\n",
    "        end_month = month + 2\n",
    "        end_year = year\n",
    "        if end_month > 12:\n",
    "            end_month -= 12\n",
    "            end_year += 1\n",
    "\n",
    "        # Filter the data for the current three-month period\n",
    "        filtered_data = df_merged[ (df_merged['Date'].dt.year < year) | ( (df_merged['Date'].dt.year == year) & (df_merged['Date'].dt.month >= month) & (df_merged['Date'].dt.month <= end_month))]\n",
    "\n",
    "        if not filtered_data.empty:\n",
    "            G = nx.from_pandas_edgelist(filtered_data, 'FromNodeId', 'ToNodeId', create_using=nx.DiGraph())\n",
    "            inbuilt_communities_generator = girvan_newman(G, most_valuable_edge=None)\n",
    "            inbuilt_communities = [c for c in next(inbuilt_communities_generator)]\n",
    "            \n",
    "            # Process your communities or do any other desired operations\n",
    "            \n",
    "            # flag += 1\n",
    "            # # Assign random colors to each detected community ensuring uniqueness\n",
    "            # community_colors = {}\n",
    "            # used_colors = set()  # Set to store used colors\n",
    "            # for i, community in enumerate(inbuilt_communities):\n",
    "            #     color = \"#{:06x}\".format(random.randint(0, 0xFFFFFF))  # Generate a random hex color\n",
    "            #     community_colors[i] = color\n",
    "            #     used_colors.add(color)\n",
    "            #     for node in community:\n",
    "            #         G.nodes[node]['community'] = i\n",
    "            #         G.nodes[node]['color'] = color\n",
    "\n",
    "            # # Export the graph to GraphML format\n",
    "            # nx.write_graphml(G, f\"graph_{flag}_3months_{year}-{month}-to-{end_year}-{end_month}.graphml\")\n",
    "        month = end_month + 1\n"
   ]
  },
  {
   "cell_type": "code",
   "execution_count": null,
   "metadata": {},
   "outputs": [],
   "source": []
  }
 ],
 "metadata": {
  "kernelspec": {
   "display_name": "base",
   "language": "python",
   "name": "python3"
  },
  "language_info": {
   "codemirror_mode": {
    "name": "ipython",
    "version": 3
   },
   "file_extension": ".py",
   "mimetype": "text/x-python",
   "name": "python",
   "nbconvert_exporter": "python",
   "pygments_lexer": "ipython3",
   "version": "3.11.7"
  }
 },
 "nbformat": 4,
 "nbformat_minor": 2
}
