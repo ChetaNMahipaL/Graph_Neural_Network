{
 "cells": [
  {
   "cell_type": "markdown",
   "metadata": {},
   "source": [
    "### **Importing Libraries**"
   ]
  },
  {
   "cell_type": "code",
   "execution_count": 7,
   "metadata": {},
   "outputs": [],
   "source": [
    "import networkx as nx\n",
    "import matplotlib.pyplot as plt\n",
    "import pandas as pd\n",
    "import numpy as np\n",
    "from sklearn.linear_model import LinearRegression\n",
    "from networkx.algorithms.community.centrality import girvan_newman\n",
    "from operator import mul\n",
    "import networkx as nx\n",
    "import os\n",
    "import sys\n",
    "import community.community_louvain as community\n",
    "import matplotlib.image as mpimg\n",
    "import matplotlib.colors as mpcolors\n",
    "import matplotlib.cm as mpcm"
   ]
  },
  {
   "cell_type": "markdown",
   "metadata": {},
   "source": [
    "### **Loading DataSet**"
   ]
  },
  {
   "cell_type": "code",
   "execution_count": 8,
   "metadata": {},
   "outputs": [],
   "source": [
    "data_url = \"./Dataset/Cit-HepPh.txt\"\n",
    "df_data_1 = pd.read_csv(data_url, sep='\\t', skiprows=4, names=['FromNodeId', 'ToNodeId'], dtype={'FromNodeId': int, 'ToNodeId': int})"
   ]
  },
  {
   "cell_type": "markdown",
   "metadata": {},
   "source": [
    "### **Loading Time of Release**"
   ]
  },
  {
   "cell_type": "code",
   "execution_count": 9,
   "metadata": {},
   "outputs": [
    {
     "name": "stdout",
     "output_type": "stream",
     "text": [
      "755\n"
     ]
    }
   ],
   "source": [
    "data_url = \"./Dataset/cit-HepPh-dates.txt\"\n",
    "df_data_2 = pd.read_csv(data_url, sep='\\t', skiprows=1, names=['NodeId', 'Date'], dtype={'NodeId': str, 'Date': str})\n",
    "df_data_2['Date'] = pd.to_datetime(df_data_2['Date'])\n",
    "df_data_2 = df_data_2[~df_data_2['NodeId'].str.startswith('11')]\n",
    "df_data_2['NodeId'] = df_data_2['NodeId'].astype(str).str.lstrip('0')\n",
    "df_data_2['NodeId'] = df_data_2['NodeId'].astype(int)\n",
    "df_data_2 = df_data_2[df_data_2['Date'].dt.year <= 1992]\n",
    "i = 0\n",
    "unnodes = df_data_2['NodeId']\n",
    "for nodes in unnodes:\n",
    "    i += 1\n",
    "print(i)\n"
   ]
  },
  {
   "cell_type": "markdown",
   "metadata": {},
   "source": [
    "### **Merging Both DataSet**"
   ]
  },
  {
   "cell_type": "code",
   "execution_count": 10,
   "metadata": {},
   "outputs": [
    {
     "name": "stdout",
     "output_type": "stream",
     "text": [
      "105\n"
     ]
    }
   ],
   "source": [
    "df_merged = pd.merge(df_data_1, df_data_2, how='inner', left_on='FromNodeId', right_on='NodeId')\n",
    "df_merged['Date'] = pd.to_datetime(df_merged['Date'])\n",
    "# Filter out rows where 'ToNodeId' is not present in 'NodeId' column of df_data_2\n",
    "df_merged = df_merged[df_merged['ToNodeId'].isin(df_data_2['NodeId'])]\n",
    "unnodes = df_merged['FromNodeId'].unique()\n",
    "i = 0\n",
    "for nodes in unnodes:\n",
    "    i += 1\n",
    "print(i)"
   ]
  },
  {
   "cell_type": "markdown",
   "metadata": {},
   "source": [
    "### **Creation of Graph**"
   ]
  },
  {
   "cell_type": "code",
   "execution_count": 11,
   "metadata": {},
   "outputs": [
    {
     "name": "stdout",
     "output_type": "stream",
     "text": [
      "Number of nodes: 173\n",
      "Number of edges: 152\n",
      "0.005108213469552359\n"
     ]
    }
   ],
   "source": [
    "\n",
    "# Construct the directed graph\n",
    "G_lat = nx.from_pandas_edgelist(df_merged, 'FromNodeId', 'ToNodeId', create_using=nx.DiGraph())\n",
    "\n",
    "print(\"Number of nodes:\", len(G_lat.nodes()))\n",
    "print(\"Number of edges:\", len(G_lat.edges()))\n",
    "print(nx.density(G_lat))\n",
    "\n"
   ]
  },
  {
   "cell_type": "markdown",
   "metadata": {},
   "source": [
    "### **Louvain Algorithm**"
   ]
  },
  {
   "cell_type": "markdown",
   "metadata": {},
   "source": [
    "### **Method 1**"
   ]
  },
  {
   "cell_type": "code",
   "execution_count": null,
   "metadata": {},
   "outputs": [],
   "source": []
  }
 ],
 "metadata": {
  "kernelspec": {
   "display_name": "Python 3",
   "language": "python",
   "name": "python3"
  },
  "language_info": {
   "codemirror_mode": {
    "name": "ipython",
    "version": 3
   },
   "file_extension": ".py",
   "mimetype": "text/x-python",
   "name": "python",
   "nbconvert_exporter": "python",
   "pygments_lexer": "ipython3",
   "version": "3.11.7"
  }
 },
 "nbformat": 4,
 "nbformat_minor": 2
}
